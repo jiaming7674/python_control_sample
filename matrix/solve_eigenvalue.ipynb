{
 "cells": [
  {
   "cell_type": "code",
   "execution_count": 1,
   "metadata": {},
   "outputs": [],
   "source": [
    "import numpy as np\n"
   ]
  },
  {
   "cell_type": "markdown",
   "metadata": {},
   "source": [
    "# numpy.linalg.eig\n",
    "linalg.eig(a)[source]\n",
    "\n",
    "Compute the eigenvalues and right eigenvectors of a square array.\n",
    "\n",
    "**Parameters**\n",
    "\n",
    "a(…, M, M) array\n",
    "\n",
    "Matrices for which the eigenvalues and right eigenvectors will be computed\n",
    "\n",
    "**Returns**\n",
    "\n",
    "*w(…, M) array*\n",
    "\n",
    "The eigenvalues, each repeated according to its multiplicity. The eigenvalues are not necessarily ordered. The resulting array will be of complex type, unless the imaginary part is zero in which case it will be cast to a real type. When a is real the resulting eigenvalues will be real (0 imaginary part) or occur in conjugate pairs\n",
    "\n",
    "*v(…, M, M) array*\n",
    "\n",
    "The normalized (unit “length”) eigenvectors, such that the column v[:,i] is the eigenvector corresponding to the eigenvalue w[i].\n",
    "\n",
    "**Raises**\n",
    "LinAlgError\n",
    "\n",
    "If the eigenvalue computation does not converge."
   ]
  },
  {
   "cell_type": "code",
   "execution_count": 6,
   "metadata": {},
   "outputs": [],
   "source": [
    "A = [[0, 1, -1], [-6, -11, 6], [-6, -11, 5]]"
   ]
  },
  {
   "cell_type": "code",
   "execution_count": 7,
   "metadata": {},
   "outputs": [
    {
     "name": "stdout",
     "output_type": "stream",
     "text": [
      "Eigenvalue = \n",
      "[-1. -2. -3.]\n",
      "Eigenvector = \n",
      "[[ 7.07106781e-01 -2.18217890e-01 -9.20574618e-02]\n",
      " [ 5.05857283e-15 -4.36435780e-01 -5.52344771e-01]\n",
      " [ 7.07106781e-01 -8.72871561e-01 -8.28517156e-01]]\n"
     ]
    }
   ],
   "source": [
    "\n",
    "w, v = np.linalg.eig(A)\n",
    "\n",
    "print(\"Eigenvalue = \")\n",
    "print(w)\n",
    "\n",
    "print(\"Eigenvector = \")\n",
    "print(v)"
   ]
  }
 ],
 "metadata": {
  "kernelspec": {
   "display_name": "Python 3.9.6 64-bit",
   "language": "python",
   "name": "python3"
  },
  "language_info": {
   "codemirror_mode": {
    "name": "ipython",
    "version": 3
   },
   "file_extension": ".py",
   "mimetype": "text/x-python",
   "name": "python",
   "nbconvert_exporter": "python",
   "pygments_lexer": "ipython3",
   "version": "3.9.6"
  },
  "orig_nbformat": 4,
  "vscode": {
   "interpreter": {
    "hash": "3757c06980ab2b9cf914d3b6e0d88e46d35670d8bbaa894901208aa8aaf89626"
   }
  }
 },
 "nbformat": 4,
 "nbformat_minor": 2
}
