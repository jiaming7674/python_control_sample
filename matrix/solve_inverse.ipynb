{
 "cells": [
  {
   "cell_type": "markdown",
   "metadata": {},
   "source": [
    "# Fine the inverse of a matrix"
   ]
  },
  {
   "cell_type": "code",
   "execution_count": 1,
   "metadata": {},
   "outputs": [],
   "source": [
    "import numpy as np"
   ]
  },
  {
   "cell_type": "code",
   "execution_count": 2,
   "metadata": {},
   "outputs": [],
   "source": [
    "A = np.matrix([[1, 1, 2], [1, 2, 1], [0, 1, 3]])\n",
    "\n"
   ]
  },
  {
   "cell_type": "code",
   "execution_count": 3,
   "metadata": {},
   "outputs": [
    {
     "name": "stdout",
     "output_type": "stream",
     "text": [
      "[[ 1.25 -0.25 -0.75]\n",
      " [-0.75  0.75  0.25]\n",
      " [ 0.25 -0.25  0.25]]\n"
     ]
    }
   ],
   "source": [
    "# Return the inverse matrix\n",
    "invA = np.linalg.inv(A)\n",
    "\n",
    "print(invA)"
   ]
  }
 ],
 "metadata": {
  "kernelspec": {
   "display_name": "Python 3.9.6 64-bit",
   "language": "python",
   "name": "python3"
  },
  "language_info": {
   "codemirror_mode": {
    "name": "ipython",
    "version": 3
   },
   "file_extension": ".py",
   "mimetype": "text/x-python",
   "name": "python",
   "nbconvert_exporter": "python",
   "pygments_lexer": "ipython3",
   "version": "3.12.1"
  },
  "orig_nbformat": 4,
  "vscode": {
   "interpreter": {
    "hash": "3757c06980ab2b9cf914d3b6e0d88e46d35670d8bbaa894901208aa8aaf89626"
   }
  }
 },
 "nbformat": 4,
 "nbformat_minor": 2
}
