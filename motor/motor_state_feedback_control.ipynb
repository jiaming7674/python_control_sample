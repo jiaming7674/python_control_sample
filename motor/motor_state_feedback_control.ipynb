{
 "cells": [
  {
   "cell_type": "markdown",
   "metadata": {},
   "source": [
    "# Motor State Space Feedback Control\n",
    "This is a sample code of motor state space control"
   ]
  },
  {
   "cell_type": "code",
   "execution_count": 1,
   "metadata": {},
   "outputs": [],
   "source": [
    "import scipy\n",
    "import matplotlib.pyplot as plt   # MATLAB plotting functions\n",
    "from control.matlab import *  # MATLAB-like functions\n",
    "import numpy as np"
   ]
  },
  {
   "cell_type": "markdown",
   "metadata": {},
   "source": [
    "### Motor Parameters\n",
    "\n",
    "Consider a motor control diagram as shown below\n",
    "\n",
    "![image](\\img\\mc_diagram.png)"
   ]
  },
  {
   "cell_type": "code",
   "execution_count": 2,
   "metadata": {},
   "outputs": [],
   "source": [
    "\n",
    "PolePairs = 2\n",
    "Rs = 0.16;      # ohm\n",
    "Ls = 0.00015;   # H\n",
    "flux = 0.00125  # Wb\n",
    "J = 5e-6;       # N-m-s^2/rad\n",
    "B = 2.5e-6;     # N-m-s / rad\n",
    "\n",
    "Kt = 3/2*PolePairs * flux\n",
    "Ke = flux"
   ]
  },
  {
   "cell_type": "markdown",
   "metadata": {},
   "source": [
    "### Motor State Space Model\n",
    "In continuous-time, a state-space model is of the following form:\n",
    "\n",
    "$\\dot{x}=Ax+Bu$\n",
    "\n",
    "$y=Cx+Du$\n",
    "\n",
    "Assume $x = \\begin{bmatrix} \\theta & \\dot\\theta & i\\end{bmatrix}^T$\n",
    "\n",
    "The matrices are shown below\n",
    "\n",
    "$A=\\begin{bmatrix}0 & 1 & 0 \\\\0 & -\\frac{B}{J} & -\\frac{K_t}{J} \\\\ 0 & -\\frac{K_e}{L_s} & -\\frac{R_s}{L_s}\\end{bmatrix}$\n",
    "\n",
    "$B=\\begin{bmatrix}0 \\\\0 \\\\ \\frac{1}{L_s}\\end{bmatrix}$\n",
    "\n",
    "$C=\\begin{bmatrix}0 & 0 & 1\\end{bmatrix}$"
   ]
  },
  {
   "cell_type": "code",
   "execution_count": 3,
   "metadata": {},
   "outputs": [],
   "source": [
    "A = [[0, 1, 0], [0, -B/J, Kt/J], [0, -Ke/Ls, -Rs/Ls]]\n",
    "B = [[0], [0], [1/Ls]]\n",
    "C = [0, 1, 0]\n",
    "D = 0\n"
   ]
  },
  {
   "cell_type": "code",
   "execution_count": 4,
   "metadata": {},
   "outputs": [],
   "source": [
    "# convert lists to array\n",
    "A = np.array(A)\n",
    "B = np.array(B)\n",
    "C = np.array(C)\n",
    "D = np.array(D)"
   ]
  },
  {
   "cell_type": "markdown",
   "metadata": {},
   "source": [
    "### State Feedback Controller\n",
    "\n",
    "Assume `u(t)` as follows\n",
    "\n",
    "$u(t)=r(t)-Kx(t)$\n",
    "\n",
    "the close loop dynamic equation is\n",
    "\n",
    "$\\dot{x}(t)=(A-BK)x(t) + Br(t)$\n",
    "\n",
    "$y(t)=Cx(t)$\n"
   ]
  },
  {
   "cell_type": "code",
   "execution_count": 5,
   "metadata": {},
   "outputs": [],
   "source": [
    "# feedback gain\n",
    "K = np.array([0, 0.001, 0])"
   ]
  },
  {
   "cell_type": "markdown",
   "metadata": {},
   "source": [
    "> :warning: There is a issue about the dcgain function of python\n",
    "> \n",
    "> Need to check the result of the equation\n"
   ]
  },
  {
   "cell_type": "code",
   "execution_count": 6,
   "metadata": {},
   "outputs": [
    {
     "name": "stdout",
     "output_type": "stream",
     "text": [
      "\n",
      "  -2.274e-13 s^2 + 5e+06 s\n",
      "----------------------------\n",
      "s^3 + 1067 s^2 + 1.178e+04 s\n",
      "\n",
      "nan\n"
     ]
    }
   ],
   "source": [
    "Acl = A - B*K\n",
    "# Calc. dc gain\n",
    "ss_motor = ss(Acl, B, C, D)\n",
    "\n",
    "Sys = tf(ss_motor)\n",
    "print(Sys)\n",
    "\n",
    "print(dcgain(Sys))"
   ]
  },
  {
   "cell_type": "code",
   "execution_count": 7,
   "metadata": {},
   "outputs": [
    {
     "name": "stdout",
     "output_type": "stream",
     "text": [
      "\n",
      "2.274e-13 s^2 + 1.179e+04 s\n",
      "----------------------------\n",
      "s^3 + 1067 s^2 + 1.178e+04 s\n",
      "\n"
     ]
    }
   ],
   "source": [
    "# Compute state feedback transfer function\n",
    "Kr = 424\n",
    "Bcl = B/Kr\n",
    "ss_motor_cls = ss(Acl, Bcl, C, D)\n",
    "Sys_cls = tf(ss_motor_cls)\n",
    "\n",
    "print(Sys_cls)"
   ]
  },
  {
   "cell_type": "markdown",
   "metadata": {},
   "source": [
    "### Plot Step Response"
   ]
  },
  {
   "cell_type": "code",
   "execution_count": 8,
   "metadata": {},
   "outputs": [
    {
     "data": {
      "image/png": "[encoded data removed]",
      "text/plain": [
       "<Figure size 432x288 with 1 Axes>"
      ]
     },
     "metadata": {
      "needs_background": "light"
     },
     "output_type": "display_data"
    }
   ],
   "source": [
    "plt.figure(1)\n",
    "# Specify timeline\n",
    "t = np.linspace(0, 5, 10000)\n",
    "\n",
    "target_speed = 1000\n",
    "\n",
    "# Plot step response\n",
    "yout, T = step(Sys_cls * target_speed, t)\n",
    "plt.plot(T.T, yout.T)\n",
    "plt.grid()\n",
    "plt.show(block=True)\n"
   ]
  }
 ],
 "metadata": {
  "interpreter": {
   "hash": "3757c06980ab2b9cf914d3b6e0d88e46d35670d8bbaa894901208aa8aaf89626"
  },
  "kernelspec": {
   "display_name": "Python 3.9.6 64-bit",
   "language": "python",
   "name": "python3"
  },
  "language_info": {
   "codemirror_mode": {
    "name": "ipython",
    "version": 3
   },
   "file_extension": ".py",
   "mimetype": "text/x-python",
   "name": "python",
   "nbconvert_exporter": "python",
   "pygments_lexer": "ipython3",
   "version": "3.9.6"
  },
  "orig_nbformat": 4
 },
 "nbformat": 4,
 "nbformat_minor": 2
}
